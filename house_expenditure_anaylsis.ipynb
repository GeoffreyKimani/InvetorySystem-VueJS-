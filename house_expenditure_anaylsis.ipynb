{
  "nbformat": 4,
  "nbformat_minor": 0,
  "metadata": {
    "colab": {
      "name": "house_expenditure_anaylsis.ipynb",
      "provenance": [],
      "collapsed_sections": [],
      "include_colab_link": true
    },
    "kernelspec": {
      "name": "python3",
      "display_name": "Python 3"
    },
    "language_info": {
      "name": "python"
    }
  },
  "cells": [
    {
      "cell_type": "markdown",
      "metadata": {
        "id": "view-in-github",
        "colab_type": "text"
      },
      "source": [
        "<a href=\"https://colab.research.google.com/github/GeoffreyKimani/InvetorySystem-VueJS-/blob/master/house_expenditure_anaylsis.ipynb\" target=\"_parent\"><img src=\"https://colab.research.google.com/assets/colab-badge.svg\" alt=\"Open In Colab\"/></a>"
      ]
    },
    {
      "cell_type": "code",
      "metadata": {
        "id": "GCR5drGQROZB"
      },
      "source": [
        "# !pip install PyDrive"
      ],
      "execution_count": 1,
      "outputs": []
    },
    {
      "cell_type": "code",
      "metadata": {
        "id": "4berDsScBFOl"
      },
      "source": [
        "import pandas as pd\n",
        "import matplotlib.pyplot as plt\n",
        "from pydrive.auth import GoogleAuth\n",
        "from pydrive.drive import GoogleDrive\n",
        "from google.colab import auth\n",
        "from oauth2client.client import GoogleCredentials"
      ],
      "execution_count": 2,
      "outputs": []
    },
    {
      "cell_type": "code",
      "metadata": {
        "id": "FBRA9QTKRd69"
      },
      "source": [
        "auth.authenticate_user()\n",
        "gauth = GoogleAuth()\n",
        "gauth.credentials = GoogleCredentials.get_application_default()\n",
        "drive = GoogleDrive(gauth)"
      ],
      "execution_count": 3,
      "outputs": []
    },
    {
      "cell_type": "code",
      "metadata": {
        "id": "Ms8cUSiqoLcC"
      },
      "source": [
        "# https://docs.google.com/spreadsheets/d/1EmoHMuC15JxaXORjtYBFe0ybSEIAbrlbmzFVha8_fMs/edit?usp=sharing\n",
        "downloaded = drive.CreateFile({'id':\"1EmoHMuC15JxaXORjtYBFe0ybSEIAbrlbmzFVha8_fMs\"})\n",
        "downloaded.GetContentFile('household_expenditure', mimetype='application/vnd.openxmlformats-officedocument.spreadsheetml.sheet')"
      ],
      "execution_count": 4,
      "outputs": []
    },
    {
      "cell_type": "code",
      "metadata": {
        "colab": {
          "base_uri": "https://localhost:8080/"
        },
        "id": "-KS1ESQ1RJP6",
        "outputId": "90b4a2b0-fa60-46b7-c0fb-29039b23dff0"
      },
      "source": [
        "data = pd.read_excel('household_expenditure')\n",
        "\n",
        "# select only columns of interest\n",
        "data = data.loc[:, 'Purchaser':'Misc Cost']\n",
        "\n",
        "# remove rows with no entries for all fields\n",
        "data.dropna(axis=0, how='all', inplace=True)\n",
        "\n",
        "data.info()"
      ],
      "execution_count": 5,
      "outputs": [
        {
          "output_type": "stream",
          "name": "stdout",
          "text": [
            "<class 'pandas.core.frame.DataFrame'>\n",
            "Int64Index: 151 entries, 0 to 150\n",
            "Data columns (total 8 columns):\n",
            " #   Column     Non-Null Count  Dtype  \n",
            "---  ------     --------------  -----  \n",
            " 0   Purchaser  122 non-null    object \n",
            " 1   Date       122 non-null    object \n",
            " 2   Cost       122 non-null    float64\n",
            " 3   Category   122 non-null    object \n",
            " 4   Item       122 non-null    object \n",
            " 5   Month      89 non-null     object \n",
            " 6   Food Cost  151 non-null    float64\n",
            " 7   Misc Cost  95 non-null     float64\n",
            "dtypes: float64(3), object(5)\n",
            "memory usage: 10.6+ KB\n"
          ]
        }
      ]
    },
    {
      "cell_type": "code",
      "metadata": {
        "colab": {
          "base_uri": "https://localhost:8080/"
        },
        "id": "iKVbdPzeDt7u",
        "outputId": "1f501991-4f43-42ce-e2fb-370feebeb621"
      },
      "source": [
        "# select all entries where names are unique and form their own dataframes\n",
        "name_list = ['NK', 'MX', 'JO', 'GK']\n",
        "purchaser_list = {}\n",
        "\n",
        "for name in name_list:\n",
        "    new_df = name + '_df'\n",
        "    new_df = data[data['Purchaser'] == name]\n",
        "    purchaser_list.update({name: new_df})\n",
        "\n",
        "purchaser_list"
      ],
      "execution_count": 6,
      "outputs": [
        {
          "output_type": "execute_result",
          "data": {
            "text/plain": [
              "{'GK':     Purchaser                 Date     Cost  ...     Month Food Cost Misc Cost\n",
              " 0          GK  2021-08-30 00:00:00   1600.0  ...  Aug 2021    1600.0       0.0\n",
              " 2          GK  2021-09-02 00:00:00  11400.0  ...  Sep 2021       0.0   11400.0\n",
              " 3          GK  2021-09-02 00:00:00   1400.0  ...  Sep 2021    1400.0       0.0\n",
              " 5          GK  2021-09-04 00:00:00  12400.0  ...  Sep 2021       0.0   12400.0\n",
              " 6          GK  2021-09-04 00:00:00   3200.0  ...  Sep 2021    3200.0       0.0\n",
              " 11         GK  2021-09-12 00:00:00  14000.0  ...  Sep 2021   14000.0       0.0\n",
              " 13         GK           13/09/2021   3200.0  ...  Sep 2021    3200.0       0.0\n",
              " 14         GK           15/09/2021  11600.0  ...  Sep 2021   11600.0       0.0\n",
              " 15         GK           17/09/2021   5300.0  ...  Sep 2021    5300.0       0.0\n",
              " 19         GK           26/09/2021   9500.0  ...  Sep 2021    9500.0       0.0\n",
              " 21         GK           30/09/2021   3200.0  ...  Sep 2021    3200.0       0.0\n",
              " 23         GK           03/10/2021   2000.0  ...       NaN    2000.0       NaN\n",
              " 25         GK           04/10/2021   5500.0  ...  Oct 2021    5500.0       0.0\n",
              " 29         GK           09/10/2021   1800.0  ...  Oct 2021       0.0    1800.0\n",
              " 30         GK           09/10/2021   4000.0  ...  Oct 2021    4000.0       0.0\n",
              " 33         GK           12/10/2021   2000.0  ...  Oct 2021    2000.0       0.0\n",
              " 35         GK           12/10/2021   3400.0  ...  Oct 2021       0.0    3400.0\n",
              " 38         GK           16/10/2021   5000.0  ...  Oct 2021    5000.0       0.0\n",
              " 39         GK           17/10/2021   2400.0  ...  Oct 2021       0.0    2400.0\n",
              " 42         GK           20/10/2021   1500.0  ...  Oct 2021    1500.0       0.0\n",
              " 43         GK           20/10/2021   4500.0  ...  Oct 2021    4500.0       0.0\n",
              " 45         GK           22/10/2021   5000.0  ...  Oct 2021    5000.0       0.0\n",
              " 46         GK           23/10/2021   1600.0  ...  Oct 2021    1600.0       0.0\n",
              " 48         GK           24/10/2021   5000.0  ...  Oct 2021    5000.0       0.0\n",
              " 51         GK           28/10/2021   5500.0  ...  Oct 2021       0.0    5500.0\n",
              " 53         GK           29/10/2021   3000.0  ...  Oct 2021       0.0    3000.0\n",
              " 54         GK           30/10/2021   1000.0  ...  Oct 2021    1000.0       0.0\n",
              " 56         GK           31/10/2021   8500.0  ...  Oct 2021    8500.0       0.0\n",
              " 58         GK           02/11/2021   8500.0  ...  Nov 2021    8500.0       0.0\n",
              " 60         GK           02/11/2021   7500.0  ...  Nov 2021    7500.0       0.0\n",
              " 61         GK           02/11/2021   5200.0  ...  Nov 2021    5200.0       0.0\n",
              " 62         GK           03/11/2021   5400.0  ...  Nov 2021    5400.0       0.0\n",
              " 64         GK           06/11/2021   5300.0  ...  Nov 2021    5300.0       0.0\n",
              " 66         GK           09/11/2021   3000.0  ...  Nov 2021    3000.0       0.0\n",
              " 68         GK           10/11/2021   5500.0  ...  Nov 2021    5500.0       0.0\n",
              " 69         GK           10/11/2021   8200.0  ...  Nov 2021    8200.0       0.0\n",
              " 77         GK           19/11/2021   2700.0  ...  Nov 2021    2700.0       0.0\n",
              " 81         GK           24/11/2021   2100.0  ...       NaN    2100.0       0.0\n",
              " 88         GK           29/11/2021   1500.0  ...  Nov 2021    1500.0       0.0\n",
              " 90         GK            2/12/2021  10000.0  ...  Dec 2021   10000.0       0.0\n",
              " 91         GK            2/12/2021   3200.0  ...  Dec 2021    3200.0       0.0\n",
              " 92         GK            4/12/2021   1600.0  ...  Dec 2021    1600.0       0.0\n",
              " 108        GK           06/12/2021   5500.0  ...  Dec 2021    5500.0       0.0\n",
              " 110        GK           07/12/2021   5000.0  ...  Dec 2021    5000.0       0.0\n",
              " \n",
              " [44 rows x 8 columns],\n",
              " 'JO':     Purchaser                 Date     Cost  ...     Month Food Cost Misc Cost\n",
              " 22         JO           03/10/2021  75480.0  ...  Oct 2021       0.0   75480.0\n",
              " 37         JO  2021-10-14 00:00:00   4900.0  ...       NaN    4900.0       0.0\n",
              " 49         JO  2021-10-26 00:00:00   6550.0  ...       NaN    6550.0       NaN\n",
              " 52         JO  2021-10-29 00:00:00   2000.0  ...       NaN    2000.0       NaN\n",
              " 79         JO           23/11/2021   2000.0  ...  Nov 2021       0.0       0.0\n",
              " 80         JO  2021-11-23 00:00:00   1650.0  ...  Nov 2021    1650.0       0.0\n",
              " 83         JO           24/11/2021  18000.0  ...  Nov 2021       0.0   18000.0\n",
              " 93         JO  2021-12-05 00:00:00   4200.0  ...  Dec 2021    4200.0       0.0\n",
              " 94         JO  2021-12-28 00:00:00   9700.0  ...  Dec 2021    9700.0       0.0\n",
              " 96         JO  2021-11-29 00:00:00   5000.0  ...       NaN    5000.0       NaN\n",
              " 98         JO  2021-12-06 00:00:00   5000.0  ...  Dec 2021    5000.0       0.0\n",
              " 100        JO  2021-10-02 00:00:00  12200.0  ...  Oct 2021   12200.0       0.0\n",
              " 101        JO  2021-11-05 00:00:00  22000.0  ...  Nov 2021   22000.0       0.0\n",
              " 102        JO  2021-09-25 00:00:00  16000.0  ...  Sep 2021   16000.0       0.0\n",
              " 103        JO  2021-10-15 00:00:00  16000.0  ...  Oct 2021   16000.0       0.0\n",
              " 104        JO  2021-10-16 00:00:00   6000.0  ...  Oct 2021    6000.0       0.0\n",
              " 106        JO  2021-11-09 00:00:00   5050.0  ...  Nov 2021    5050.0       0.0\n",
              " 107        JO  2021-09-11 00:00:00  27500.0  ...  Sep 2021   27500.0       0.0\n",
              " 112        JO  2021-09-05 00:00:00  19000.0  ...  Sep 2021   19000.0       0.0\n",
              " 113        JO  2021-11-14 00:00:00  14100.0  ...  Nov 2021   14100.0       0.0\n",
              " 114        JO  2021-11-14 00:00:00  10600.0  ...  Nov 2021   10600.0       0.0\n",
              " 115        JO  2021-11-21 00:00:00  10600.0  ...  Nov 2021   10600.0       0.0\n",
              " 116        JO  2021-11-21 00:00:00  14100.0  ...  Nov 2021   14100.0       0.0\n",
              " 117        JO  2021-12-09 00:00:00   2800.0  ...  Dec 2021    2800.0       0.0\n",
              " \n",
              " [24 rows x 8 columns],\n",
              " 'MX':     Purchaser                 Date     Cost  ...     Month Food Cost Misc Cost\n",
              " 7          MX  2021-09-04 00:00:00   1800.0  ...  Sep 2021    1800.0       0.0\n",
              " 8          MX  2021-09-06 00:00:00  16000.0  ...  Sep 2021   16000.0       0.0\n",
              " 9          MX  2021-09-07 00:00:00   6700.0  ...  Sep 2021    6700.0       0.0\n",
              " 10         MX  2021-09-09 00:00:00   1920.0  ...  Sep 2021    1920.0       0.0\n",
              " 12         MX  2021-09-12 00:00:00  11400.0  ...  Sep 2021   11400.0       0.0\n",
              " 16         MX  2021-09-19 00:00:00  20200.0  ...  Sep 2021   20200.0       0.0\n",
              " 17         MX  2021-09-19 00:00:00   5100.0  ...  Sep 2021       0.0    5100.0\n",
              " 18         MX  2020-09-23 00:00:00  10200.0  ...       NaN   10200.0       NaN\n",
              " 20         MX  2021-09-26 00:00:00  33800.0  ...  Sep 2021   33800.0       0.0\n",
              " 24         MX  2021-10-05 00:00:00  11800.0  ...  Oct 2021   11800.0       0.0\n",
              " 26         MX  2021-10-06 00:00:00   5500.0  ...  Oct 2021    5500.0       0.0\n",
              " 27         MX  2021-10-07 00:00:00   1200.0  ...       NaN       0.0       NaN\n",
              " 28         MX  2021-10-08 00:00:00   1900.0  ...       NaN    1900.0       NaN\n",
              " 31         MX  2021-10-10 00:00:00  27500.0  ...       NaN   27500.0       0.0\n",
              " 32         MX  2021-10-11 00:00:00   6380.0  ...       NaN       0.0       NaN\n",
              " 34         MX  2021-10-12 00:00:00   1150.0  ...       NaN    1150.0       NaN\n",
              " 36         MX  2021-10-14 00:00:00  11500.0  ...       NaN   11500.0       NaN\n",
              " 40         MX  2021-10-18 00:00:00   1900.0  ...       NaN    1900.0       0.0\n",
              " 41         MX  2021-10-20 00:00:00   3000.0  ...  Oct 2021    3000.0       0.0\n",
              " 44         MX  2021-10-21 00:00:00   7300.0  ...       NaN    7300.0       NaN\n",
              " 47         MX  2021-10-23 00:00:00   8000.0  ...       NaN    8000.0       NaN\n",
              " 50         MX  2021-10-26 00:00:00   8000.0  ...  Oct 2021    8000.0       0.0\n",
              " 55         MX  2021-10-30 00:00:00   4300.0  ...       NaN    4300.0       NaN\n",
              " 57         MX  2021-11-01 00:00:00   1600.0  ...       NaN    1600.0       NaN\n",
              " 59         MX  2021-11-02 00:00:00   5050.0  ...       NaN    5050.0       NaN\n",
              " 63         MX  2021-11-06 00:00:00  14500.0  ...       NaN   14500.0       NaN\n",
              " 65         MX  2021-11-08 00:00:00   3000.0  ...       NaN    3000.0       NaN\n",
              " 67         MX  2021-11-09 00:00:00   4250.0  ...       NaN    4250.0       NaN\n",
              " 70         MX  2021-11-12 00:00:00   7600.0  ...  Nov 2021    7600.0       0.0\n",
              " 71         MX  2021-11-14 00:00:00   5800.0  ...       NaN    5800.0       NaN\n",
              " 72         MX  2021-11-15 00:00:00   7350.0  ...  Nov 2021    7350.0       0.0\n",
              " 73         MX  2021-11-16 00:00:00   4250.0  ...  Nov 2021    4250.0       0.0\n",
              " 74         MX  2021-11-17 00:00:00   5400.0  ...  Nov 2021    5400.0       0.0\n",
              " 75         MX  2021-11-18 00:00:00   6400.0  ...  Nov 2021    6400.0       0.0\n",
              " 76         MX  2021-11-19 00:00:00  10600.0  ...  Nov 2021   10600.0       0.0\n",
              " 78         MX  2021-11-22 00:00:00  12400.0  ...  Nov 2021   12400.0       0.0\n",
              " 105        MX  2021-10-28 00:00:00  12400.0  ...       NaN   12400.0       NaN\n",
              " 111        MX  2021-12-07 00:00:00  11300.0  ...       NaN   11300.0       NaN\n",
              " 119        MX  2021-12-10 00:00:00  16000.0  ...  Dec 2021   16000.0       0.0\n",
              " 121        MX  2021-12-12 00:00:00   6000.0  ...  Dec 2021    6000.0       0.0\n",
              " \n",
              " [40 rows x 8 columns],\n",
              " 'NK':     Purchaser                 Date     Cost  ...     Month Food Cost Misc Cost\n",
              " 1          NK  2021-09-01 00:00:00   4300.0  ...  Sep 2021    4300.0       0.0\n",
              " 4          NK  2021-09-02 00:00:00   3000.0  ...       NaN    3000.0       NaN\n",
              " 82         NK           24/11/2021  22000.0  ...       NaN       0.0   22000.0\n",
              " 84         NK  2021-11-21 00:00:00  25000.0  ...  Nov 2021       0.0   25000.0\n",
              " 85         NK  2021-11-24 00:00:00   1600.0  ...  Nov 2021    1600.0       0.0\n",
              " 86         NK  2021-11-25 00:00:00   3950.0  ...       NaN    3950.0       NaN\n",
              " 87         NK  2021-11-26 00:00:00   5900.0  ...       NaN    5900.0       NaN\n",
              " 89         NK  2021-11-30 00:00:00  10000.0  ...       NaN       0.0   10000.0\n",
              " 95         NK  2021-11-29 00:00:00   5100.0  ...       NaN    5100.0       NaN\n",
              " 97         NK  2021-11-30 00:00:00   2250.0  ...       NaN    2250.0       NaN\n",
              " 99         NK  2021-12-02 00:00:00   2200.0  ...       NaN    2200.0       NaN\n",
              " 109        NK  2021-11-22 00:00:00  15000.0  ...  Nov 2021   15000.0       0.0\n",
              " 118        NK  2021-12-11 00:00:00  16000.0  ...  Dec 2021       0.0   16000.0\n",
              " 120        NK  2021-12-12 00:00:00   5000.0  ...  Dec 2021    5000.0       0.0\n",
              " \n",
              " [14 rows x 8 columns]}"
            ]
          },
          "metadata": {},
          "execution_count": 6
        }
      ]
    },
    {
      "cell_type": "code",
      "metadata": {
        "colab": {
          "base_uri": "https://localhost:8080/"
        },
        "id": "8v3kuBRcFxG6",
        "outputId": "b05c9262-a553-46d8-fd24-a451c6a12371"
      },
      "source": [
        "# total expenses\n",
        "purchaser_expense = {}\n",
        "for purchaser, df in purchaser_list.items():\n",
        "    purchaser_expense.update({purchaser: df['Cost'].sum()})\n",
        "\n",
        "purchaser_expense"
      ],
      "execution_count": 7,
      "outputs": [
        {
          "output_type": "execute_result",
          "data": {
            "text/plain": [
              "{'GK': 218700.0, 'JO': 310430.0, 'MX': 340450.0, 'NK': 121300.0}"
            ]
          },
          "metadata": {},
          "execution_count": 7
        }
      ]
    },
    {
      "cell_type": "markdown",
      "metadata": {
        "id": "zqXYyY6L6SBo"
      },
      "source": [
        "#Share Contribution and Deficit"
      ]
    },
    {
      "cell_type": "code",
      "metadata": {
        "colab": {
          "base_uri": "https://localhost:8080/"
        },
        "id": "9lwuaoew6Xn9",
        "outputId": "29f83c81-4f4c-4ff0-eee8-e1fcf7fbe5ac"
      },
      "source": [
        "total_expense = sum(purchaser_expense.values())\n",
        "total_expense"
      ],
      "execution_count": 8,
      "outputs": [
        {
          "output_type": "execute_result",
          "data": {
            "text/plain": [
              "990880.0"
            ]
          },
          "metadata": {},
          "execution_count": 8
        }
      ]
    },
    {
      "cell_type": "code",
      "metadata": {
        "colab": {
          "base_uri": "https://localhost:8080/"
        },
        "id": "MG-ynzxG654l",
        "outputId": "e45720fd-9da0-4144-c84f-aef32abae2b2"
      },
      "source": [
        "# personal share\n",
        "personal_share = total_expense/len(purchaser_expense)\n",
        "personal_share"
      ],
      "execution_count": 9,
      "outputs": [
        {
          "output_type": "execute_result",
          "data": {
            "text/plain": [
              "247720.0"
            ]
          },
          "metadata": {},
          "execution_count": 9
        }
      ]
    },
    {
      "cell_type": "code",
      "metadata": {
        "colab": {
          "base_uri": "https://localhost:8080/"
        },
        "id": "-_8uGOy27KzY",
        "outputId": "862db28d-0ad6-4f48-8bd4-58472ebf59f3"
      },
      "source": [
        "# deficit\n",
        "deficits = {person: contribution - personal_share for person, contribution in purchaser_expense.items()}\n",
        "deficits"
      ],
      "execution_count": 10,
      "outputs": [
        {
          "output_type": "execute_result",
          "data": {
            "text/plain": [
              "{'GK': -29020.0, 'JO': 62710.0, 'MX': 92730.0, 'NK': -126420.0}"
            ]
          },
          "metadata": {},
          "execution_count": 10
        }
      ]
    },
    {
      "cell_type": "markdown",
      "metadata": {
        "id": "JXNwNR0p5Os9"
      },
      "source": [
        "# Monthly Analysis 💰"
      ]
    },
    {
      "cell_type": "code",
      "metadata": {
        "id": "iiELXSbNIBbu"
      },
      "source": [
        "# plt.bar(total_expense.keys(), total_expense.values())"
      ],
      "execution_count": 11,
      "outputs": []
    },
    {
      "cell_type": "code",
      "metadata": {
        "id": "GsrtjlIh5Gfr"
      },
      "source": [
        ""
      ],
      "execution_count": 11,
      "outputs": []
    }
  ]
}