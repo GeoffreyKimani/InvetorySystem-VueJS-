{
  "nbformat": 4,
  "nbformat_minor": 0,
  "metadata": {
    "colab": {
      "name": "house_expenditure_anaylsis.ipynb",
      "provenance": [],
      "collapsed_sections": [],
      "include_colab_link": true
    },
    "kernelspec": {
      "name": "python3",
      "display_name": "Python 3"
    },
    "language_info": {
      "name": "python"
    }
  },
  "cells": [
    {
      "cell_type": "markdown",
      "metadata": {
        "id": "view-in-github",
        "colab_type": "text"
      },
      "source": [
        "<a href=\"https://colab.research.google.com/github/GeoffreyKimani/InvetorySystem-VueJS-/blob/master/house_expenditure_anaylsis.ipynb\" target=\"_parent\"><img src=\"https://colab.research.google.com/assets/colab-badge.svg\" alt=\"Open In Colab\"/></a>"
      ]
    },
    {
      "cell_type": "code",
      "metadata": {
        "colab": {
          "base_uri": "https://localhost:8080/"
        },
        "id": "GCR5drGQROZB",
        "outputId": "cec25d24-4a43-4933-d8c5-aab65743f8d8"
      },
      "source": [
        "!pip install PyDrive"
      ],
      "execution_count": null,
      "outputs": [
        {
          "output_type": "stream",
          "name": "stdout",
          "text": [
            "Requirement already satisfied: PyDrive in /usr/local/lib/python3.7/dist-packages (1.3.1)\n",
            "Requirement already satisfied: oauth2client>=4.0.0 in /usr/local/lib/python3.7/dist-packages (from PyDrive) (4.1.3)\n",
            "Requirement already satisfied: PyYAML>=3.0 in /usr/local/lib/python3.7/dist-packages (from PyDrive) (3.13)\n",
            "Requirement already satisfied: google-api-python-client>=1.2 in /usr/local/lib/python3.7/dist-packages (from PyDrive) (1.12.8)\n",
            "Requirement already satisfied: google-auth>=1.16.0 in /usr/local/lib/python3.7/dist-packages (from google-api-python-client>=1.2->PyDrive) (1.35.0)\n",
            "Requirement already satisfied: httplib2<1dev,>=0.15.0 in /usr/local/lib/python3.7/dist-packages (from google-api-python-client>=1.2->PyDrive) (0.17.4)\n",
            "Requirement already satisfied: google-api-core<2dev,>=1.21.0 in /usr/local/lib/python3.7/dist-packages (from google-api-python-client>=1.2->PyDrive) (1.26.3)\n",
            "Requirement already satisfied: uritemplate<4dev,>=3.0.0 in /usr/local/lib/python3.7/dist-packages (from google-api-python-client>=1.2->PyDrive) (3.0.1)\n",
            "Requirement already satisfied: google-auth-httplib2>=0.0.3 in /usr/local/lib/python3.7/dist-packages (from google-api-python-client>=1.2->PyDrive) (0.0.4)\n",
            "Requirement already satisfied: six<2dev,>=1.13.0 in /usr/local/lib/python3.7/dist-packages (from google-api-python-client>=1.2->PyDrive) (1.15.0)\n",
            "Requirement already satisfied: setuptools>=40.3.0 in /usr/local/lib/python3.7/dist-packages (from google-api-core<2dev,>=1.21.0->google-api-python-client>=1.2->PyDrive) (57.4.0)\n",
            "Requirement already satisfied: pytz in /usr/local/lib/python3.7/dist-packages (from google-api-core<2dev,>=1.21.0->google-api-python-client>=1.2->PyDrive) (2018.9)\n",
            "Requirement already satisfied: googleapis-common-protos<2.0dev,>=1.6.0 in /usr/local/lib/python3.7/dist-packages (from google-api-core<2dev,>=1.21.0->google-api-python-client>=1.2->PyDrive) (1.53.0)\n",
            "Requirement already satisfied: protobuf>=3.12.0 in /usr/local/lib/python3.7/dist-packages (from google-api-core<2dev,>=1.21.0->google-api-python-client>=1.2->PyDrive) (3.17.3)\n",
            "Requirement already satisfied: packaging>=14.3 in /usr/local/lib/python3.7/dist-packages (from google-api-core<2dev,>=1.21.0->google-api-python-client>=1.2->PyDrive) (21.3)\n",
            "Requirement already satisfied: requests<3.0.0dev,>=2.18.0 in /usr/local/lib/python3.7/dist-packages (from google-api-core<2dev,>=1.21.0->google-api-python-client>=1.2->PyDrive) (2.23.0)\n",
            "Requirement already satisfied: cachetools<5.0,>=2.0.0 in /usr/local/lib/python3.7/dist-packages (from google-auth>=1.16.0->google-api-python-client>=1.2->PyDrive) (4.2.4)\n",
            "Requirement already satisfied: pyasn1-modules>=0.2.1 in /usr/local/lib/python3.7/dist-packages (from google-auth>=1.16.0->google-api-python-client>=1.2->PyDrive) (0.2.8)\n",
            "Requirement already satisfied: rsa<5,>=3.1.4 in /usr/local/lib/python3.7/dist-packages (from google-auth>=1.16.0->google-api-python-client>=1.2->PyDrive) (4.7.2)\n",
            "Requirement already satisfied: pyasn1>=0.1.7 in /usr/local/lib/python3.7/dist-packages (from oauth2client>=4.0.0->PyDrive) (0.4.8)\n",
            "Requirement already satisfied: pyparsing!=3.0.5,>=2.0.2 in /usr/local/lib/python3.7/dist-packages (from packaging>=14.3->google-api-core<2dev,>=1.21.0->google-api-python-client>=1.2->PyDrive) (3.0.6)\n",
            "Requirement already satisfied: chardet<4,>=3.0.2 in /usr/local/lib/python3.7/dist-packages (from requests<3.0.0dev,>=2.18.0->google-api-core<2dev,>=1.21.0->google-api-python-client>=1.2->PyDrive) (3.0.4)\n",
            "Requirement already satisfied: certifi>=2017.4.17 in /usr/local/lib/python3.7/dist-packages (from requests<3.0.0dev,>=2.18.0->google-api-core<2dev,>=1.21.0->google-api-python-client>=1.2->PyDrive) (2021.10.8)\n",
            "Requirement already satisfied: idna<3,>=2.5 in /usr/local/lib/python3.7/dist-packages (from requests<3.0.0dev,>=2.18.0->google-api-core<2dev,>=1.21.0->google-api-python-client>=1.2->PyDrive) (2.10)\n",
            "Requirement already satisfied: urllib3!=1.25.0,!=1.25.1,<1.26,>=1.21.1 in /usr/local/lib/python3.7/dist-packages (from requests<3.0.0dev,>=2.18.0->google-api-core<2dev,>=1.21.0->google-api-python-client>=1.2->PyDrive) (1.24.3)\n"
          ]
        }
      ]
    },
    {
      "cell_type": "code",
      "metadata": {
        "id": "4berDsScBFOl"
      },
      "source": [
        "import pandas as pd\n",
        "import matplotlib.pyplot as plt\n",
        "from pydrive.auth import GoogleAuth\n",
        "from pydrive.drive import GoogleDrive\n",
        "from google.colab import auth\n",
        "from oauth2client.client import GoogleCredentials"
      ],
      "execution_count": null,
      "outputs": []
    },
    {
      "cell_type": "code",
      "metadata": {
        "id": "FBRA9QTKRd69"
      },
      "source": [
        "auth.authenticate_user()\n",
        "gauth = GoogleAuth()\n",
        "gauth.credentials = GoogleCredentials.get_application_default()\n",
        "drive = GoogleDrive(gauth)"
      ],
      "execution_count": null,
      "outputs": []
    },
    {
      "cell_type": "code",
      "metadata": {
        "id": "Ms8cUSiqoLcC"
      },
      "source": [
        "# https://docs.google.com/spreadsheets/d/1EmoHMuC15JxaXORjtYBFe0ybSEIAbrlbmzFVha8_fMs/edit?usp=sharing\n",
        "downloaded = drive.CreateFile({'id':\"1EmoHMuC15JxaXORjtYBFe0ybSEIAbrlbmzFVha8_fMs\"})\n",
        "downloaded.GetContentFile('household_expenditure', mimetype='application/vnd.openxmlformats-officedocument.spreadsheetml.sheet')"
      ],
      "execution_count": null,
      "outputs": []
    },
    {
      "cell_type": "code",
      "metadata": {
        "colab": {
          "base_uri": "https://localhost:8080/",
          "height": 424
        },
        "id": "-KS1ESQ1RJP6",
        "outputId": "cbac9118-aa9d-4235-f2f6-32d9868946c7"
      },
      "source": [
        "data = pd.read_excel('household_expenditure')\n",
        "\n",
        "# select only columns of interest\n",
        "data = data.loc[:, 'Purchaser':'Misc Cost']\n",
        "\n",
        "# remove rows with no entries for all fields\n",
        "data.dropna(axis=0, how='all', inplace=True)\n",
        "\n",
        "data"
      ],
      "execution_count": null,
      "outputs": [
        {
          "output_type": "execute_result",
          "data": {
            "text/html": [
              "<div>\n",
              "<style scoped>\n",
              "    .dataframe tbody tr th:only-of-type {\n",
              "        vertical-align: middle;\n",
              "    }\n",
              "\n",
              "    .dataframe tbody tr th {\n",
              "        vertical-align: top;\n",
              "    }\n",
              "\n",
              "    .dataframe thead th {\n",
              "        text-align: right;\n",
              "    }\n",
              "</style>\n",
              "<table border=\"1\" class=\"dataframe\">\n",
              "  <thead>\n",
              "    <tr style=\"text-align: right;\">\n",
              "      <th></th>\n",
              "      <th>Purchaser</th>\n",
              "      <th>Date</th>\n",
              "      <th>Cost</th>\n",
              "      <th>Category</th>\n",
              "      <th>Item</th>\n",
              "      <th>Month</th>\n",
              "      <th>Food Cost</th>\n",
              "      <th>Misc Cost</th>\n",
              "    </tr>\n",
              "  </thead>\n",
              "  <tbody>\n",
              "    <tr>\n",
              "      <th>0</th>\n",
              "      <td>GK</td>\n",
              "      <td>2021-08-30 00:00:00</td>\n",
              "      <td>1600.0</td>\n",
              "      <td>Food</td>\n",
              "      <td>Sardines</td>\n",
              "      <td>Aug 2021</td>\n",
              "      <td>1600.0</td>\n",
              "      <td>0.0</td>\n",
              "    </tr>\n",
              "    <tr>\n",
              "      <th>1</th>\n",
              "      <td>NK</td>\n",
              "      <td>2021-09-01 00:00:00</td>\n",
              "      <td>4300.0</td>\n",
              "      <td>Food</td>\n",
              "      <td>Sardines 4 * 700 Milk 3 * 500</td>\n",
              "      <td>Sep 2021</td>\n",
              "      <td>4300.0</td>\n",
              "      <td>0.0</td>\n",
              "    </tr>\n",
              "    <tr>\n",
              "      <th>2</th>\n",
              "      <td>GK</td>\n",
              "      <td>2021-09-02 00:00:00</td>\n",
              "      <td>11400.0</td>\n",
              "      <td>House Items</td>\n",
              "      <td>2 Fantas + Nescafe coffee + 2 Instant porriage</td>\n",
              "      <td>Sep 2021</td>\n",
              "      <td>0.0</td>\n",
              "      <td>11400.0</td>\n",
              "    </tr>\n",
              "    <tr>\n",
              "      <th>3</th>\n",
              "      <td>GK</td>\n",
              "      <td>2021-09-02 00:00:00</td>\n",
              "      <td>1400.0</td>\n",
              "      <td>Food</td>\n",
              "      <td>Bread</td>\n",
              "      <td>Sep 2021</td>\n",
              "      <td>1400.0</td>\n",
              "      <td>0.0</td>\n",
              "    </tr>\n",
              "    <tr>\n",
              "      <th>4</th>\n",
              "      <td>NK</td>\n",
              "      <td>2021-09-02 00:00:00</td>\n",
              "      <td>3000.0</td>\n",
              "      <td>Food</td>\n",
              "      <td>1 KG Beef</td>\n",
              "      <td>NaN</td>\n",
              "      <td>NaN</td>\n",
              "      <td>NaN</td>\n",
              "    </tr>\n",
              "    <tr>\n",
              "      <th>...</th>\n",
              "      <td>...</td>\n",
              "      <td>...</td>\n",
              "      <td>...</td>\n",
              "      <td>...</td>\n",
              "      <td>...</td>\n",
              "      <td>...</td>\n",
              "      <td>...</td>\n",
              "      <td>...</td>\n",
              "    </tr>\n",
              "    <tr>\n",
              "      <th>74</th>\n",
              "      <td>MX</td>\n",
              "      <td>2021-11-18 00:00:00</td>\n",
              "      <td>6400.0</td>\n",
              "      <td>Food</td>\n",
              "      <td>Kaunga 5kg-2600, Sardines 3-2400, Ubugari 1kg-...</td>\n",
              "      <td>Nov 2021</td>\n",
              "      <td>6400.0</td>\n",
              "      <td>0.0</td>\n",
              "    </tr>\n",
              "    <tr>\n",
              "      <th>75</th>\n",
              "      <td>MX</td>\n",
              "      <td>2021-11-19 00:00:00</td>\n",
              "      <td>10600.0</td>\n",
              "      <td>Food</td>\n",
              "      <td>Cornflakes -8500, Indomie -2100</td>\n",
              "      <td>Nov 2021</td>\n",
              "      <td>10600.0</td>\n",
              "      <td>0.0</td>\n",
              "    </tr>\n",
              "    <tr>\n",
              "      <th>76</th>\n",
              "      <td>GK</td>\n",
              "      <td>19/11/2021</td>\n",
              "      <td>2700.0</td>\n",
              "      <td>Food</td>\n",
              "      <td>milk -2 pacs @600 each soda @1500</td>\n",
              "      <td>Nov 2021</td>\n",
              "      <td>2700.0</td>\n",
              "      <td>0.0</td>\n",
              "    </tr>\n",
              "    <tr>\n",
              "      <th>77</th>\n",
              "      <td>MX</td>\n",
              "      <td>2021-11-22 00:00:00</td>\n",
              "      <td>12400.0</td>\n",
              "      <td>Food</td>\n",
              "      <td>Milk-6000, Groceries-66</td>\n",
              "      <td>Nov 2021</td>\n",
              "      <td>12400.0</td>\n",
              "      <td>0.0</td>\n",
              "    </tr>\n",
              "    <tr>\n",
              "      <th>78</th>\n",
              "      <td>JO</td>\n",
              "      <td>23/11/2021</td>\n",
              "      <td>2000.0</td>\n",
              "      <td>House Items</td>\n",
              "      <td>Trash</td>\n",
              "      <td>Nov 2021</td>\n",
              "      <td>2000.0</td>\n",
              "      <td>0.0</td>\n",
              "    </tr>\n",
              "  </tbody>\n",
              "</table>\n",
              "<p>79 rows × 8 columns</p>\n",
              "</div>"
            ],
            "text/plain": [
              "   Purchaser                 Date     Cost  ...     Month Food Cost Misc Cost\n",
              "0         GK  2021-08-30 00:00:00   1600.0  ...  Aug 2021    1600.0       0.0\n",
              "1         NK  2021-09-01 00:00:00   4300.0  ...  Sep 2021    4300.0       0.0\n",
              "2         GK  2021-09-02 00:00:00  11400.0  ...  Sep 2021       0.0   11400.0\n",
              "3         GK  2021-09-02 00:00:00   1400.0  ...  Sep 2021    1400.0       0.0\n",
              "4         NK  2021-09-02 00:00:00   3000.0  ...       NaN       NaN       NaN\n",
              "..       ...                  ...      ...  ...       ...       ...       ...\n",
              "74        MX  2021-11-18 00:00:00   6400.0  ...  Nov 2021    6400.0       0.0\n",
              "75        MX  2021-11-19 00:00:00  10600.0  ...  Nov 2021   10600.0       0.0\n",
              "76        GK           19/11/2021   2700.0  ...  Nov 2021    2700.0       0.0\n",
              "77        MX  2021-11-22 00:00:00  12400.0  ...  Nov 2021   12400.0       0.0\n",
              "78        JO           23/11/2021   2000.0  ...  Nov 2021    2000.0       0.0\n",
              "\n",
              "[79 rows x 8 columns]"
            ]
          },
          "metadata": {},
          "execution_count": 5
        }
      ]
    },
    {
      "cell_type": "code",
      "metadata": {
        "colab": {
          "base_uri": "https://localhost:8080/"
        },
        "id": "iKVbdPzeDt7u",
        "outputId": "77d0b0ea-b636-4ca9-ce4d-f8cc274f2c4e"
      },
      "source": [
        "# select all entries where names are unique and form their own dataframes\n",
        "name_list = ['NK', 'MX', 'JO', 'GK']\n",
        "purchaser_list = {}\n",
        "\n",
        "for name in name_list:\n",
        "    new_df = name + '_df'\n",
        "    new_df = data[data['Purchaser'] == name]\n",
        "    purchaser_list.update({name: new_df})\n",
        "\n",
        "purchaser_list"
      ],
      "execution_count": null,
      "outputs": [
        {
          "output_type": "execute_result",
          "data": {
            "text/plain": [
              "{'GK':    Purchaser                 Date     Cost  ...     Month Food Cost Misc Cost\n",
              " 0         GK  2021-08-30 00:00:00   1600.0  ...  Aug 2021    1600.0       0.0\n",
              " 2         GK  2021-09-02 00:00:00  11400.0  ...  Sep 2021       0.0   11400.0\n",
              " 3         GK  2021-09-02 00:00:00   1400.0  ...  Sep 2021    1400.0       0.0\n",
              " 5         GK  2021-09-04 00:00:00  12400.0  ...  Sep 2021       0.0   12400.0\n",
              " 6         GK  2021-09-04 00:00:00   3200.0  ...  Sep 2021    3200.0       0.0\n",
              " 11        GK  2021-09-12 00:00:00  14000.0  ...  Sep 2021   14000.0       0.0\n",
              " 13        GK           13/09/2021   3200.0  ...  Sep 2021    3200.0       0.0\n",
              " 14        GK           15/09/2021  11600.0  ...  Sep 2021   11600.0       0.0\n",
              " 15        GK           17/09/2021   5300.0  ...  Sep 2021    5300.0       0.0\n",
              " 19        GK           26/09/2021   9500.0  ...  Sep 2021    9500.0       0.0\n",
              " 21        GK           30/09/2021   3200.0  ...  Sep 2021    3200.0       0.0\n",
              " 23        GK           03/10/2021   2000.0  ...       NaN       NaN       NaN\n",
              " 25        GK           04/10/2021   5500.0  ...  Oct 2021    5500.0       0.0\n",
              " 29        GK           09/10/2021   1800.0  ...  Oct 2021       0.0    1800.0\n",
              " 30        GK           09/10/2021   4000.0  ...  Oct 2021    4000.0       0.0\n",
              " 32        GK           12/10/2021   2000.0  ...  Oct 2021    2000.0       0.0\n",
              " 34        GK           12/10/2021   3400.0  ...  Oct 2021       0.0    3400.0\n",
              " 37        GK           16/10/2021   5000.0  ...  Oct 2021    5000.0       0.0\n",
              " 38        GK           17/10/2021   2400.0  ...  Oct 2021       0.0    2400.0\n",
              " 41        GK           20/10/2021   1500.0  ...  Oct 2021    1500.0       0.0\n",
              " 42        GK           20/10/2021   4500.0  ...  Oct 2021    4500.0       0.0\n",
              " 44        GK           22/10/2021   5000.0  ...  Oct 2021    5000.0       0.0\n",
              " 45        GK           23/10/2021   1600.0  ...  Oct 2021    1600.0       0.0\n",
              " 47        GK           24/10/2021   5000.0  ...  Oct 2021    5000.0       0.0\n",
              " 50        GK           28/10/2021   5500.0  ...  Oct 2021       0.0    5500.0\n",
              " 52        GK           29/10/2021   3000.0  ...  Oct 2021       0.0    3000.0\n",
              " 53        GK           30/10/2021   1000.0  ...  Oct 2021    1000.0       0.0\n",
              " 55        GK           31/10/2021   8500.0  ...  Oct 2021    8500.0       0.0\n",
              " 57        GK           02/11/2021   8500.0  ...  Nov 2021    8500.0       0.0\n",
              " 59        GK           02/11/2021   7500.0  ...  Nov 2021    7500.0       0.0\n",
              " 60        GK           02/11/2021   5200.0  ...  Nov 2021    5200.0       0.0\n",
              " 61        GK           03/11/2021   5400.0  ...  Nov 2021    5400.0       0.0\n",
              " 63        GK           06/11/2021   5300.0  ...  Nov 2021    5300.0       0.0\n",
              " 65        GK           09/11/2021   3000.0  ...  Nov 2021    3000.0       0.0\n",
              " 67        GK           10/11/2021   5500.0  ...  Nov 2021    5500.0       0.0\n",
              " 68        GK           10/11/2021   8200.0  ...  Nov 2021    8200.0       0.0\n",
              " 76        GK           19/11/2021   2700.0  ...  Nov 2021    2700.0       0.0\n",
              " \n",
              " [37 rows x 8 columns],\n",
              " 'JO':    Purchaser                 Date     Cost  ...     Month Food Cost Misc Cost\n",
              " 22        JO           03/10/2021  75480.0  ...  Oct 2021       0.0   75480.0\n",
              " 36        JO  2021-10-14 00:00:00   4900.0  ...       NaN       NaN       NaN\n",
              " 48        JO  2021-10-26 00:00:00   6550.0  ...       NaN       NaN       NaN\n",
              " 51        JO  2021-10-29 00:00:00   2000.0  ...       NaN       NaN       NaN\n",
              " 78        JO           23/11/2021   2000.0  ...  Nov 2021    2000.0       0.0\n",
              " \n",
              " [5 rows x 8 columns],\n",
              " 'MX':    Purchaser                 Date     Cost  ...     Month Food Cost Misc Cost\n",
              " 7         MX  2021-09-04 00:00:00   1800.0  ...  Sep 2021    1800.0       0.0\n",
              " 8         MX  2021-09-06 00:00:00  16000.0  ...  Sep 2021   16000.0       0.0\n",
              " 9         MX  2021-09-07 00:00:00   6700.0  ...  Sep 2021    6700.0       0.0\n",
              " 10        MX  2021-09-09 00:00:00   1920.0  ...  Sep 2021    1920.0       0.0\n",
              " 12        MX  2021-09-12 00:00:00  11400.0  ...  Sep 2021   11400.0       0.0\n",
              " 16        MX  2021-09-19 00:00:00  20200.0  ...  Sep 2021   20200.0       0.0\n",
              " 17        MX  2021-09-19 00:00:00   5100.0  ...  Sep 2021       0.0    5100.0\n",
              " 18        MX  2020-09-23 00:00:00  10200.0  ...       NaN       NaN       NaN\n",
              " 20        MX  2021-09-26 00:00:00  33800.0  ...  Sep 2021   33800.0       0.0\n",
              " 24        MX  2021-10-05 00:00:00  11800.0  ...  Oct 2021   11800.0       0.0\n",
              " 26        MX  2021-10-06 00:00:00   5500.0  ...  Oct 2021    5500.0       0.0\n",
              " 27        MX  2021-10-07 00:00:00   1200.0  ...       NaN       NaN       NaN\n",
              " 28        MX  2021-10-08 00:00:00   1900.0  ...       NaN       NaN       NaN\n",
              " 31        MX  2021-10-11 00:00:00   6380.0  ...       NaN       NaN       NaN\n",
              " 33        MX  2021-10-12 00:00:00   1150.0  ...       NaN       NaN       NaN\n",
              " 35        MX  2021-10-14 00:00:00  11500.0  ...       NaN       NaN       NaN\n",
              " 39        MX  2021-10-18 00:00:00   1900.0  ...       NaN       NaN       NaN\n",
              " 40        MX  2021-10-20 00:00:00   3000.0  ...  Oct 2021    3000.0       0.0\n",
              " 43        MX  2021-10-21 00:00:00   7300.0  ...       NaN       NaN       NaN\n",
              " 46        MX  2021-10-23 00:00:00   8000.0  ...       NaN       NaN       NaN\n",
              " 49        MX  2021-10-26 00:00:00   8000.0  ...  Oct 2021    8000.0       0.0\n",
              " 54        MX  2021-10-30 00:00:00   4300.0  ...       NaN       NaN       NaN\n",
              " 56        MX  2021-11-01 00:00:00   1600.0  ...       NaN       NaN       NaN\n",
              " 58        MX  2021-11-02 00:00:00   5050.0  ...       NaN       NaN       NaN\n",
              " 62        MX  2021-11-06 00:00:00  14500.0  ...       NaN       NaN       NaN\n",
              " 64        MX  2021-11-08 00:00:00   3000.0  ...       NaN       NaN       NaN\n",
              " 66        MX  2021-11-09 00:00:00   4250.0  ...       NaN       NaN       NaN\n",
              " 69        MX  2021-11-12 00:00:00   7600.0  ...  Nov 2021    7600.0       0.0\n",
              " 70        MX  2021-11-14 00:00:00   5800.0  ...       NaN       NaN       NaN\n",
              " 71        MX  2021-11-15 00:00:00   7350.0  ...  Nov 2021    7350.0       0.0\n",
              " 72        MX  2021-11-16 00:00:00   4250.0  ...  Nov 2021    4250.0       0.0\n",
              " 73        MX  2021-11-17 00:00:00   5400.0  ...  Nov 2021    5400.0       0.0\n",
              " 74        MX  2021-11-18 00:00:00   6400.0  ...  Nov 2021    6400.0       0.0\n",
              " 75        MX  2021-11-19 00:00:00  10600.0  ...  Nov 2021   10600.0       0.0\n",
              " 77        MX  2021-11-22 00:00:00  12400.0  ...  Nov 2021   12400.0       0.0\n",
              " \n",
              " [35 rows x 8 columns],\n",
              " 'NK':   Purchaser                 Date    Cost  ...     Month Food Cost Misc Cost\n",
              " 1        NK  2021-09-01 00:00:00  4300.0  ...  Sep 2021    4300.0       0.0\n",
              " 4        NK  2021-09-02 00:00:00  3000.0  ...       NaN       NaN       NaN\n",
              " \n",
              " [2 rows x 8 columns]}"
            ]
          },
          "metadata": {},
          "execution_count": 6
        }
      ]
    },
    {
      "cell_type": "code",
      "metadata": {
        "colab": {
          "base_uri": "https://localhost:8080/"
        },
        "id": "8v3kuBRcFxG6",
        "outputId": "880421b4-fda7-4471-dd5d-c4a5de378356"
      },
      "source": [
        "# total expenses\n",
        "purchaser_expense = {}\n",
        "for purchaser, df in purchaser_list.items():\n",
        "    purchaser_expense.update({purchaser: df['Cost'].sum()})\n",
        "\n",
        "purchaser_expense"
      ],
      "execution_count": null,
      "outputs": [
        {
          "output_type": "execute_result",
          "data": {
            "text/plain": [
              "{'GK': 189800.0, 'JO': 90930.0, 'MX': 267250.0, 'NK': 7300.0}"
            ]
          },
          "metadata": {},
          "execution_count": 7
        }
      ]
    },
    {
      "cell_type": "markdown",
      "metadata": {
        "id": "zqXYyY6L6SBo"
      },
      "source": [
        "#Share Contribution and Deficit"
      ]
    },
    {
      "cell_type": "code",
      "metadata": {
        "colab": {
          "base_uri": "https://localhost:8080/"
        },
        "id": "9lwuaoew6Xn9",
        "outputId": "7fd20d65-5d53-4eb6-af17-1be2df92fa3d"
      },
      "source": [
        "total_expense = sum(purchaser_expense.values())\n",
        "total_expense"
      ],
      "execution_count": null,
      "outputs": [
        {
          "output_type": "execute_result",
          "data": {
            "text/plain": [
              "555280.0"
            ]
          },
          "metadata": {},
          "execution_count": 8
        }
      ]
    },
    {
      "cell_type": "code",
      "metadata": {
        "colab": {
          "base_uri": "https://localhost:8080/"
        },
        "id": "MG-ynzxG654l",
        "outputId": "42643565-9b11-4236-deaa-880db5b72437"
      },
      "source": [
        "# personal share\n",
        "personal_share = total_expense/len(purchaser_expense)\n",
        "personal_share"
      ],
      "execution_count": null,
      "outputs": [
        {
          "output_type": "execute_result",
          "data": {
            "text/plain": [
              "138820.0"
            ]
          },
          "metadata": {},
          "execution_count": 9
        }
      ]
    },
    {
      "cell_type": "code",
      "metadata": {
        "colab": {
          "base_uri": "https://localhost:8080/"
        },
        "id": "-_8uGOy27KzY",
        "outputId": "5445aafa-22db-48f1-e9a1-a338f7ab309d"
      },
      "source": [
        "# deficit\n",
        "deficits = {person: contribution - personal_share for person, contribution in purchaser_expense.items()}\n",
        "deficits"
      ],
      "execution_count": null,
      "outputs": [
        {
          "output_type": "execute_result",
          "data": {
            "text/plain": [
              "{'GK': 50980.0, 'JO': -47890.0, 'MX': 128430.0, 'NK': -131520.0}"
            ]
          },
          "metadata": {},
          "execution_count": 10
        }
      ]
    },
    {
      "cell_type": "markdown",
      "metadata": {
        "id": "JXNwNR0p5Os9"
      },
      "source": [
        "# Monthly Analysis 💰"
      ]
    },
    {
      "cell_type": "code",
      "metadata": {
        "id": "iiELXSbNIBbu"
      },
      "source": [
        "# plt.bar(total_expense.keys(), total_expense.values())"
      ],
      "execution_count": null,
      "outputs": []
    },
    {
      "cell_type": "code",
      "metadata": {
        "id": "GsrtjlIh5Gfr"
      },
      "source": [
        ""
      ],
      "execution_count": null,
      "outputs": []
    }
  ]
}